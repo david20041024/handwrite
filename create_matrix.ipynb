{
  "nbformat": 4,
  "nbformat_minor": 0,
  "metadata": {
    "colab": {
      "provenance": []
    },
    "kernelspec": {
      "name": "python3",
      "display_name": "Python 3"
    },
    "language_info": {
      "name": "python"
    },
    "widgets": {
      "application/vnd.jupyter.widget-state+json": {
        "a338a8073a9d4a2f8111ce8673362552": {
          "model_module": "@jupyter-widgets/output",
          "model_name": "OutputModel",
          "model_module_version": "1.0.0",
          "state": {
            "_dom_classes": [],
            "_model_module": "@jupyter-widgets/output",
            "_model_module_version": "1.0.0",
            "_model_name": "OutputModel",
            "_view_count": null,
            "_view_module": "@jupyter-widgets/output",
            "_view_module_version": "1.0.0",
            "_view_name": "OutputView",
            "layout": "IPY_MODEL_4cbb3592d58a4fb791670827c410778d",
            "msg_id": "",
            "outputs": []
          }
        },
        "4cbb3592d58a4fb791670827c410778d": {
          "model_module": "@jupyter-widgets/base",
          "model_name": "LayoutModel",
          "model_module_version": "1.2.0",
          "state": {
            "_model_module": "@jupyter-widgets/base",
            "_model_module_version": "1.2.0",
            "_model_name": "LayoutModel",
            "_view_count": null,
            "_view_module": "@jupyter-widgets/base",
            "_view_module_version": "1.2.0",
            "_view_name": "LayoutView",
            "align_content": null,
            "align_items": null,
            "align_self": null,
            "border": null,
            "bottom": null,
            "display": null,
            "flex": null,
            "flex_flow": null,
            "grid_area": null,
            "grid_auto_columns": null,
            "grid_auto_flow": null,
            "grid_auto_rows": null,
            "grid_column": null,
            "grid_gap": null,
            "grid_row": null,
            "grid_template_areas": null,
            "grid_template_columns": null,
            "grid_template_rows": null,
            "height": null,
            "justify_content": null,
            "justify_items": null,
            "left": null,
            "margin": null,
            "max_height": null,
            "max_width": null,
            "min_height": null,
            "min_width": null,
            "object_fit": null,
            "object_position": null,
            "order": null,
            "overflow": null,
            "overflow_x": null,
            "overflow_y": null,
            "padding": null,
            "right": null,
            "top": null,
            "visibility": null,
            "width": null
          }
        }
      }
    }
  },
  "cells": [
    {
      "cell_type": "code",
      "execution_count": null,
      "metadata": {
        "colab": {
          "base_uri": "https://localhost:8080/",
          "height": 708,
          "referenced_widgets": [
            "a338a8073a9d4a2f8111ce8673362552",
            "4cbb3592d58a4fb791670827c410778d"
          ]
        },
        "id": "ESlHnAjkHFqT",
        "outputId": "d2ef273a-4165-4b3d-a73e-a9267b06ec2b"
      },
      "outputs": [
        {
          "output_type": "display_data",
          "data": {
            "text/plain": [
              "Output()"
            ],
            "application/vnd.jupyter.widget-view+json": {
              "version_major": 2,
              "version_minor": 0,
              "model_id": "a338a8073a9d4a2f8111ce8673362552"
            }
          },
          "metadata": {}
        },
        {
          "output_type": "display_data",
          "data": {
            "text/plain": [
              "<IPython.core.display.HTML object>"
            ],
            "text/html": [
              "\n",
              "<div style=\"font-family: Arial;\">\n",
              "  <h4>請用鼠標繪製數字：</h4>\n",
              "  <canvas id=\"drawCanvas\" width=\"160\" height=\"160\"\n",
              "          style=\"border:2px solid #666; cursor:crosshair; background:white;\"></canvas>\n",
              "  <div style=\"margin-top:15px;\">\n",
              "    <button onclick=\"processDrawing()\" \n",
              "            style=\"padding:6px 15px; background:#4285f4; color:white; border:none; border-radius:4px;\">\n",
              "      生成8x8矩陣\n",
              "    </button>\n",
              "    <button onclick=\"clearCanvas()\" \n",
              "            style=\"padding:6px 15px; margin-left:10px; background:#f1f1f1; border:1px solid #ddd; border-radius:4px;\">\n",
              "      清除重畫\n",
              "    </button>\n",
              "  </div>\n",
              "  <div id=\"matrixContainer\" style=\"margin-top:20px; display:none;\">\n",
              "    <h4>生成的矩陣：</h4>\n",
              "    <div id=\"matrixOutput\" \n",
              "         style=\"font-family:monospace; background:#f8f8f8; padding:10px; border-radius:4px;\"></div>\n",
              "    <div style=\"margin-top:15px;\">\n",
              "      <div style=\"font-weight:bold; margin-bottom:5px;\">視覺化預覽：</div>\n",
              "      <canvas id=\"matrixPreview\" width=\"160\" height=\"160\" \n",
              "              style=\"border:1px solid #ccc; background:white;\"></canvas>\n",
              "    </div>\n",
              "  </div>\n",
              "</div>\n",
              "\n",
              "<script>\n",
              "// 繪圖配置\n",
              "const canvas = document.getElementById('drawCanvas');\n",
              "const ctx = canvas.getContext('2d');\n",
              "ctx.strokeStyle = 'black';\n",
              "ctx.lineWidth = 20;\n",
              "ctx.lineCap = 'round';\n",
              "ctx.lineJoin = 'round';\n",
              "\n",
              "let isDrawing = false;\n",
              "let lastX = 0;\n",
              "let lastY = 0;\n",
              "\n",
              "// 繪圖邏輯\n",
              "canvas.addEventListener('mousedown', startDrawing);\n",
              "canvas.addEventListener('mousemove', draw);\n",
              "canvas.addEventListener('mouseup', stopDrawing);\n",
              "canvas.addEventListener('mouseout', stopDrawing);\n",
              "\n",
              "function startDrawing(e) {\n",
              "  isDrawing = true;\n",
              "  [lastX, lastY] = [e.offsetX, e.offsetY];\n",
              "  ctx.beginPath();\n",
              "  ctx.moveTo(lastX, lastY);\n",
              "}\n",
              "\n",
              "function draw(e) {\n",
              "  if (!isDrawing) return;\n",
              "  ctx.lineTo(e.offsetX, e.offsetY);\n",
              "  ctx.stroke();\n",
              "  [lastX, lastY] = [e.offsetX, e.offsetY];\n",
              "}\n",
              "\n",
              "function stopDrawing() {\n",
              "  isDrawing = false;\n",
              "}\n",
              "\n",
              "function clearCanvas() {\n",
              "  ctx.fillStyle = 'white';\n",
              "  ctx.fillRect(0, 0, canvas.width, canvas.height);\n",
              "  document.getElementById('matrixContainer').style.display = 'none';\n",
              "}\n",
              "\n",
              "function processDrawing() {\n",
              "  // 建立 8x8 縮小畫布\n",
              "  const tempCanvas = document.createElement('canvas');\n",
              "  tempCanvas.width = tempCanvas.height = 8;\n",
              "  const tempCtx = tempCanvas.getContext('2d');\n",
              "  tempCtx.drawImage(canvas, 0, 0, 8, 8);\n",
              "\n",
              "  const imgData = tempCtx.getImageData(0, 0, 8, 8);\n",
              "  const matrix = [];\n",
              "  let matrixHTML = '[<br>';\n",
              "\n",
              "  // 閾值固定：比 128 深就算黑\n",
              "  for (let y = 0; y < 8; y++) {\n",
              "    const row = [];\n",
              "    for (let x = 0; x < 8; x++) {\n",
              "      const idx = (y * 8 + x) * 4;\n",
              "      const avg = (imgData.data[idx] + imgData.data[idx+1] + imgData.data[idx+2]) / 3;\n",
              "      row.push(avg < 128 ? 1 : 0);  // 黑筆 -> 1\n",
              "    }\n",
              "    matrix.push(row);\n",
              "    matrixHTML += '  [' + row.join(',') + ']' + (y < 7 ? ',' : '') + '<br>';\n",
              "  }\n",
              "  matrixHTML += ']';\n",
              "\n",
              "  // 顯示結果\n",
              "  const container = document.getElementById('matrixContainer');\n",
              "  container.style.display = 'block';\n",
              "  document.getElementById('matrixOutput').innerHTML = matrixHTML;\n",
              "\n",
              "  // 視覺化預覽\n",
              "  const preview = document.getElementById('matrixPreview');\n",
              "  const previewCtx = preview.getContext('2d');\n",
              "  const scale = 20;\n",
              "\n",
              "  // 白底\n",
              "  previewCtx.fillStyle = 'white';\n",
              "  previewCtx.fillRect(0, 0, preview.width, preview.height);\n",
              "\n",
              "  for (let y = 0; y < 8; y++) {\n",
              "    for (let x = 0; x < 8; x++) {\n",
              "      if (matrix[y][x] === 1) {\n",
              "        previewCtx.fillStyle = 'black';  // 黑筆 -> 黑色\n",
              "        previewCtx.fillRect(x * scale, y * scale, scale, scale);\n",
              "      }\n",
              "    }\n",
              "  }\n",
              "}\n",
              "</script>\n"
            ]
          },
          "metadata": {}
        }
      ],
      "source": [
        "from IPython.display import HTML, display\n",
        "import ipywidgets as widgets\n",
        "\n",
        "output = widgets.Output()\n",
        "display(output)\n",
        "\n",
        "html_code = \"\"\"\n",
        "<div style=\"font-family: Arial;\">\n",
        "  <h4>請用鼠標繪製數字：</h4>\n",
        "  <canvas id=\"drawCanvas\" width=\"160\" height=\"160\"\n",
        "          style=\"border:2px solid #666; cursor:crosshair; background:white;\"></canvas>\n",
        "  <div style=\"margin-top:15px;\">\n",
        "    <button onclick=\"processDrawing()\"\n",
        "            style=\"padding:6px 15px; background:#4285f4; color:white; border:none; border-radius:4px;\">\n",
        "      生成8x8矩陣\n",
        "    </button>\n",
        "    <button onclick=\"clearCanvas()\"\n",
        "            style=\"padding:6px 15px; margin-left:10px; background:#f1f1f1; border:1px solid #ddd; border-radius:4px;\">\n",
        "      清除重畫\n",
        "    </button>\n",
        "  </div>\n",
        "  <div id=\"matrixContainer\" style=\"margin-top:20px; display:none;\">\n",
        "    <h4>生成的矩陣：</h4>\n",
        "    <div id=\"matrixOutput\"\n",
        "         style=\"font-family:monospace; background:#f8f8f8; padding:10px; border-radius:4px;\"></div>\n",
        "    <div style=\"margin-top:15px;\">\n",
        "      <div style=\"font-weight:bold; margin-bottom:5px;\">視覺化預覽：</div>\n",
        "      <canvas id=\"matrixPreview\" width=\"160\" height=\"160\"\n",
        "              style=\"border:1px solid #ccc; background:white;\"></canvas>\n",
        "    </div>\n",
        "  </div>\n",
        "</div>\n",
        "\n",
        "<script>\n",
        "// 繪圖配置\n",
        "const canvas = document.getElementById('drawCanvas');\n",
        "const ctx = canvas.getContext('2d');\n",
        "ctx.strokeStyle = 'black';\n",
        "ctx.lineWidth = 20;\n",
        "ctx.lineCap = 'round';\n",
        "ctx.lineJoin = 'round';\n",
        "\n",
        "let isDrawing = false;\n",
        "let lastX = 0;\n",
        "let lastY = 0;\n",
        "\n",
        "// 繪圖邏輯\n",
        "canvas.addEventListener('mousedown', startDrawing);\n",
        "canvas.addEventListener('mousemove', draw);\n",
        "canvas.addEventListener('mouseup', stopDrawing);\n",
        "canvas.addEventListener('mouseout', stopDrawing);\n",
        "\n",
        "function startDrawing(e) {\n",
        "  isDrawing = true;\n",
        "  [lastX, lastY] = [e.offsetX, e.offsetY];\n",
        "  ctx.beginPath();\n",
        "  ctx.moveTo(lastX, lastY);\n",
        "}\n",
        "\n",
        "function draw(e) {\n",
        "  if (!isDrawing) return;\n",
        "  ctx.lineTo(e.offsetX, e.offsetY);\n",
        "  ctx.stroke();\n",
        "  [lastX, lastY] = [e.offsetX, e.offsetY];\n",
        "}\n",
        "\n",
        "function stopDrawing() {\n",
        "  isDrawing = false;\n",
        "}\n",
        "\n",
        "function clearCanvas() {\n",
        "  ctx.fillStyle = 'white';\n",
        "  ctx.fillRect(0, 0, canvas.width, canvas.height);\n",
        "  document.getElementById('matrixContainer').style.display = 'none';\n",
        "}\n",
        "\n",
        "function processDrawing() {\n",
        "  // 建立 8x8 縮小畫布\n",
        "  const tempCanvas = document.createElement('canvas');\n",
        "  tempCanvas.width = tempCanvas.height = 8;\n",
        "  const tempCtx = tempCanvas.getContext('2d');\n",
        "  tempCtx.drawImage(canvas, 0, 0, 8, 8);\n",
        "\n",
        "  const imgData = tempCtx.getImageData(0, 0, 8, 8);\n",
        "  const matrix = [];\n",
        "  let matrixHTML = '[<br>';\n",
        "\n",
        "  // 閾值固定：比 128 深就算黑\n",
        "  for (let y = 0; y < 8; y++) {\n",
        "    const row = [];\n",
        "    for (let x = 0; x < 8; x++) {\n",
        "      const idx = (y * 8 + x) * 4;\n",
        "      const avg = (imgData.data[idx] + imgData.data[idx+1] + imgData.data[idx+2]) / 3;\n",
        "      row.push(avg < 128 ? 1 : 0);  // 黑筆 -> 1\n",
        "    }\n",
        "    matrix.push(row);\n",
        "    matrixHTML += '  [' + row.join(',') + ']' + (y < 7 ? ',' : '') + '<br>';\n",
        "  }\n",
        "  matrixHTML += ']';\n",
        "\n",
        "  // 顯示結果\n",
        "  const container = document.getElementById('matrixContainer');\n",
        "  container.style.display = 'block';\n",
        "  document.getElementById('matrixOutput').innerHTML = matrixHTML;\n",
        "\n",
        "  // 視覺化預覽\n",
        "  const preview = document.getElementById('matrixPreview');\n",
        "  const previewCtx = preview.getContext('2d');\n",
        "  const scale = 20;\n",
        "\n",
        "  // 白底\n",
        "  previewCtx.fillStyle = 'white';\n",
        "  previewCtx.fillRect(0, 0, preview.width, preview.height);\n",
        "\n",
        "  for (let y = 0; y < 8; y++) {\n",
        "    for (let x = 0; x < 8; x++) {\n",
        "      if (matrix[y][x] === 1) {\n",
        "        previewCtx.fillStyle = 'black';  // 黑筆 -> 黑色\n",
        "        previewCtx.fillRect(x * scale, y * scale, scale, scale);\n",
        "      }\n",
        "    }\n",
        "  }\n",
        "}\n",
        "</script>\n",
        "\"\"\"\n",
        "\n",
        "display(HTML(html_code))\n"
      ]
    },
    {
      "cell_type": "code",
      "source": [
        "from google.colab import output\n",
        "output.enable_custom_widget_manager()"
      ],
      "metadata": {
        "id": "zXfU0NebIgrg"
      },
      "execution_count": null,
      "outputs": []
    },
    {
      "cell_type": "markdown",
      "source": [
        "Support for third party widgets will remain active for the duration of the session. To disable support:"
      ],
      "metadata": {
        "id": "dUvzGh_bIgrh"
      }
    },
    {
      "cell_type": "code",
      "source": [
        "from google.colab import output\n",
        "output.disable_custom_widget_manager()"
      ],
      "metadata": {
        "id": "17ApHhvrIgrh"
      },
      "execution_count": null,
      "outputs": []
    },
    {
      "cell_type": "code",
      "source": [
        "from google.colab import output\n",
        "output.enable_custom_widget_manager()"
      ],
      "metadata": {
        "id": "LV-HnGQvIBy7"
      },
      "execution_count": null,
      "outputs": []
    },
    {
      "cell_type": "markdown",
      "source": [
        "Support for third party widgets will remain active for the duration of the session. To disable support:"
      ],
      "metadata": {
        "id": "o3uJMAWDIBy8"
      }
    },
    {
      "cell_type": "code",
      "source": [
        "from google.colab import output\n",
        "output.disable_custom_widget_manager()"
      ],
      "metadata": {
        "id": "cCWA2BN3IBy8"
      },
      "execution_count": null,
      "outputs": []
    },
    {
      "cell_type": "code",
      "source": [
        "from google.colab import output\n",
        "output.enable_custom_widget_manager()"
      ],
      "metadata": {
        "id": "8EhMBpl6H-xK"
      },
      "execution_count": null,
      "outputs": []
    },
    {
      "cell_type": "markdown",
      "source": [
        "Support for third party widgets will remain active for the duration of the session. To disable support:"
      ],
      "metadata": {
        "id": "ZyGlcrg7H-xL"
      }
    },
    {
      "cell_type": "code",
      "source": [
        "from google.colab import output\n",
        "output.disable_custom_widget_manager()"
      ],
      "metadata": {
        "id": "4gxsBL6xH-xL"
      },
      "execution_count": null,
      "outputs": []
    },
    {
      "cell_type": "code",
      "source": [
        "from google.colab import output\n",
        "output.enable_custom_widget_manager()"
      ],
      "metadata": {
        "id": "k1AgfRrAIYaK"
      },
      "execution_count": null,
      "outputs": []
    },
    {
      "cell_type": "markdown",
      "source": [
        "Support for third party widgets will remain active for the duration of the session. To disable support:"
      ],
      "metadata": {
        "id": "3dUl60rdIYaL"
      }
    },
    {
      "cell_type": "code",
      "source": [
        "from google.colab import output\n",
        "output.disable_custom_widget_manager()"
      ],
      "metadata": {
        "id": "kG8tqWReIYaM"
      },
      "execution_count": null,
      "outputs": []
    }
  ]
}