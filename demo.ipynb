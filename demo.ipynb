{
  "nbformat": 4,
  "nbformat_minor": 0,
  "metadata": {
    "colab": {
      "provenance": []
    },
    "kernelspec": {
      "name": "python3",
      "display_name": "Python 3"
    },
    "language_info": {
      "name": "python"
    },
    "widgets": {
      "application/vnd.jupyter.widget-state+json": {
        "c6363bececf24756870df058ab1d9da8": {
          "model_module": "@jupyter-widgets/output",
          "model_name": "OutputModel",
          "model_module_version": "1.0.0",
          "state": {
            "_dom_classes": [],
            "_model_module": "@jupyter-widgets/output",
            "_model_module_version": "1.0.0",
            "_model_name": "OutputModel",
            "_view_count": null,
            "_view_module": "@jupyter-widgets/output",
            "_view_module_version": "1.0.0",
            "_view_name": "OutputView",
            "layout": "IPY_MODEL_df8787ce08194a55a767387dd6414c70",
            "msg_id": "",
            "outputs": []
          }
        },
        "df8787ce08194a55a767387dd6414c70": {
          "model_module": "@jupyter-widgets/base",
          "model_name": "LayoutModel",
          "model_module_version": "1.2.0",
          "state": {
            "_model_module": "@jupyter-widgets/base",
            "_model_module_version": "1.2.0",
            "_model_name": "LayoutModel",
            "_view_count": null,
            "_view_module": "@jupyter-widgets/base",
            "_view_module_version": "1.2.0",
            "_view_name": "LayoutView",
            "align_content": null,
            "align_items": null,
            "align_self": null,
            "border": null,
            "bottom": null,
            "display": null,
            "flex": null,
            "flex_flow": null,
            "grid_area": null,
            "grid_auto_columns": null,
            "grid_auto_flow": null,
            "grid_auto_rows": null,
            "grid_column": null,
            "grid_gap": null,
            "grid_row": null,
            "grid_template_areas": null,
            "grid_template_columns": null,
            "grid_template_rows": null,
            "height": null,
            "justify_content": null,
            "justify_items": null,
            "left": null,
            "margin": null,
            "max_height": null,
            "max_width": null,
            "min_height": null,
            "min_width": null,
            "object_fit": null,
            "object_position": null,
            "order": null,
            "overflow": null,
            "overflow_x": null,
            "overflow_y": null,
            "padding": null,
            "right": null,
            "top": null,
            "visibility": null,
            "width": null
          }
        }
      }
    }
  },
  "cells": [
    {
      "cell_type": "code",
      "metadata": {
        "id": "614a550a",
        "colab": {
          "base_uri": "https://localhost:8080/",
          "height": 544,
          "referenced_widgets": [
            "c6363bececf24756870df058ab1d9da8",
            "df8787ce08194a55a767387dd6414c70"
          ]
        },
        "outputId": "15edd2dd-5e5f-4d5a-adc1-3c9af91f7b4e"
      },
      "source": [
        "# 匯入必要套件\n",
        "import numpy as np\n",
        "from tensorflow.keras.models import load_model\n",
        "from IPython.display import HTML, display\n",
        "import ipywidgets as widgets\n",
        "from google.colab import files\n",
        "uploaded = files.upload()\n",
        "# 1. 載入模型\n",
        "# 2. 獲取文件名\n",
        "model_filename = list(uploaded.keys())[0]\n",
        "print(f\"✅ 已上傳模型: {model_filename}\")\n",
        "\n",
        "# 3. 加載模型\n",
        "model = load_model(model_filename)\n",
        "print(\"✅ 模型加載成功！\")\n",
        "\n",
        "# 2. 建立輸入輸出介面\n",
        "output = widgets.Output()\n",
        "display(output)\n",
        "\n",
        "html_code = \"\"\"\n",
        "<div style=\"font-family: Arial;\">\n",
        "  <h4>請用鼠標繪製數字：</h4>\n",
        "  <canvas id=\"drawCanvas\" width=\"ˇ320\" height=\"320\"\n",
        "          style=\"border:2px solid #666; cursor:crosshair; background:white;\"></canvas>\n",
        "  <div style=\"margin-top:15px;\">\n",
        "    <button onclick=\"processDrawing()\"\n",
        "            style=\"padding:6px 15px; background:#4285f4; color:white; border:none; border-radius:4px;\">\n",
        "      預測\n",
        "    </button>\n",
        "    <button onclick=\"clearCanvas()\"\n",
        "            style=\"padding:6px 15px; margin-left:10px; background:#f1f1f1; border:1px solid #ddd; border-radius:4px;\">\n",
        "      清除重畫\n",
        "    </button>\n",
        "  </div>\n",
        "  <div id=\"matrixContainer\" style=\"margin-top:20px; display:none;\">\n",
        "    <h4>生成的矩陣：</h4>\n",
        "    <div id=\"matrixOutput\"\n",
        "         style=\"font-family:monospace; background:#f8f8f8; padding:10px; border-radius:4px;\"></div>\n",
        "    <div style=\"margin-top:15px;\">\n",
        "      <div style=\"font-weight:bold; margin-bottom:5px;\">視覺化預覽：</div>\n",
        "      <canvas id=\"matrixPreview\" width=\"160\" height=\"160\"\n",
        "              style=\"border:1px solid #ccc; background:white;\"></canvas>\n",
        "    </div>\n",
        "    <div id=\"predictOutput\" style=\"margin-top:20px; font-weight:bold; color:#d32f2f;\"></div>\n",
        "  </div>\n",
        "</div>\n",
        "\n",
        "<script>\n",
        "const canvas = document.getElementById('drawCanvas');\n",
        "const ctx = canvas.getContext('2d');\n",
        "ctx.strokeStyle = 'black';\n",
        "ctx.lineWidth = 40;\n",
        "ctx.lineCap = 'round';\n",
        "ctx.lineJoin = 'round';\n",
        "\n",
        "let isDrawing = false;\n",
        "let lastX = 0;\n",
        "let lastY = 0;\n",
        "\n",
        "canvas.addEventListener('mousedown', startDrawing);\n",
        "canvas.addEventListener('mousemove', draw);\n",
        "canvas.addEventListener('mouseup', stopDrawing);\n",
        "canvas.addEventListener('mouseout', stopDrawing);\n",
        "\n",
        "function startDrawing(e) {\n",
        "  isDrawing = true;\n",
        "  [lastX, lastY] = [e.offsetX, e.offsetY];\n",
        "  ctx.beginPath();\n",
        "  ctx.moveTo(lastX, lastY);\n",
        "}\n",
        "\n",
        "function draw(e) {\n",
        "  if (!isDrawing) return;\n",
        "  ctx.lineTo(e.offsetX, e.offsetY);\n",
        "  ctx.stroke();\n",
        "  [lastX, lastY] = [e.offsetX, e.offsetY];\n",
        "}\n",
        "\n",
        "function stopDrawing() {\n",
        "  isDrawing = false;\n",
        "}\n",
        "\n",
        "function clearCanvas() {\n",
        "  ctx.fillStyle = 'white';\n",
        "  ctx.fillRect(0, 0, canvas.width, canvas.height);\n",
        "  document.getElementById('matrixContainer').style.display = 'none';\n",
        "}\n",
        "\n",
        "function processDrawing() {\n",
        "  const tempCanvas = document.createElement('canvas');\n",
        "  tempCanvas.width = tempCanvas.height = 8;\n",
        "  const tempCtx = tempCanvas.getContext('2d');\n",
        "  tempCtx.drawImage(canvas, 0, 0, 8, 8);\n",
        "\n",
        "  const imgData = tempCtx.getImageData(0, 0, 8, 8);\n",
        "  const matrix = [];\n",
        "  let matrixHTML = '[<br>';\n",
        "\n",
        "  for (let y = 0; y < 8; y++) {\n",
        "    const row = [];\n",
        "    for (let x = 0; x < 8; x++) {\n",
        "      const idx = (y * 8 + x) * 4;\n",
        "      const avg = (imgData.data[idx] + imgData.data[idx+1] + imgData.data[idx+2]) / 3;\n",
        "      row.push(avg < 128 ? 1 : 0);\n",
        "    }\n",
        "    matrix.push(row);\n",
        "    matrixHTML += '  [' + row.join(',') + ']' + (y < 7 ? ',' : '') + '<br>';\n",
        "  }\n",
        "  matrixHTML += ']';\n",
        "\n",
        "  const container = document.getElementById('matrixContainer');\n",
        "  container.style.display = 'block';\n",
        "  document.getElementById('matrixOutput').innerHTML = matrixHTML;\n",
        "\n",
        "  const preview = document.getElementById('matrixPreview');\n",
        "  const previewCtx = preview.getContext('2d');\n",
        "  const scale = 20;\n",
        "  previewCtx.fillStyle = 'white';\n",
        "  previewCtx.fillRect(0, 0, preview.width, preview.height);\n",
        "  for (let y = 0; y < 8; y++) {\n",
        "    for (let x = 0; x < 8; x++) {\n",
        "      if (matrix[y][x] === 1) {\n",
        "        previewCtx.fillStyle = 'black';\n",
        "        previewCtx.fillRect(x * scale, y * scale, scale, scale);\n",
        "      }\n",
        "    }\n",
        "  }\n",
        "\n",
        "  // 把 matrix 傳回 Python\n",
        "  google.colab.kernel.invokeFunction('notebook.predict_digit', [matrix], {});\n",
        "}\n",
        "</script>\n",
        "\"\"\"\n",
        "\n",
        "display(HTML(html_code))\n",
        "\n",
        "# 3. 在 Python 定義 callback，接收 matrix 並做模型推理\n",
        "def predict_digit(matrix):\n",
        "    arr = np.array(matrix).reshape(1, 8, 8).astype(\"float32\")\n",
        "    prob = model.predict(arr, verbose=0)[0][0]\n",
        "\n",
        "    if prob >= 0.6:\n",
        "        result = f\"預測機率: {prob:.4f} -> 判斷: 1\"\n",
        "    elif prob <0.6 and prob >=0.5:\n",
        "        result = f\"預測機率: {prob:.4f} -> 判斷: 可能是1\"\n",
        "    elif prob <0.5 and prob >=0.4:\n",
        "        result = f\"預測機率: {prob:.4f} -> 判斷: 可能是3\"\n",
        "    else:\n",
        "        result = f\"預測機率: {prob:.4f} -> 判斷: 3\"\n",
        "\n",
        "    display(HTML(f\"<script>document.getElementById('predictOutput').innerText = '{result}';</script>\"))\n",
        "\n",
        "from google.colab import output as colab_output\n",
        "colab_output.register_callback('notebook.predict_digit', predict_digit)\n"
      ],
      "execution_count": 9,
      "outputs": [
        {
          "output_type": "display_data",
          "data": {
            "text/plain": [
              "<IPython.core.display.HTML object>"
            ],
            "text/html": [
              "\n",
              "     <input type=\"file\" id=\"files-8df83cd1-48d2-4f66-b694-c00be5b97538\" name=\"files[]\" multiple disabled\n",
              "        style=\"border:none\" />\n",
              "     <output id=\"result-8df83cd1-48d2-4f66-b694-c00be5b97538\">\n",
              "      Upload widget is only available when the cell has been executed in the\n",
              "      current browser session. Please rerun this cell to enable.\n",
              "      </output>\n",
              "      <script>// Copyright 2017 Google LLC\n",
              "//\n",
              "// Licensed under the Apache License, Version 2.0 (the \"License\");\n",
              "// you may not use this file except in compliance with the License.\n",
              "// You may obtain a copy of the License at\n",
              "//\n",
              "//      http://www.apache.org/licenses/LICENSE-2.0\n",
              "//\n",
              "// Unless required by applicable law or agreed to in writing, software\n",
              "// distributed under the License is distributed on an \"AS IS\" BASIS,\n",
              "// WITHOUT WARRANTIES OR CONDITIONS OF ANY KIND, either express or implied.\n",
              "// See the License for the specific language governing permissions and\n",
              "// limitations under the License.\n",
              "\n",
              "/**\n",
              " * @fileoverview Helpers for google.colab Python module.\n",
              " */\n",
              "(function(scope) {\n",
              "function span(text, styleAttributes = {}) {\n",
              "  const element = document.createElement('span');\n",
              "  element.textContent = text;\n",
              "  for (const key of Object.keys(styleAttributes)) {\n",
              "    element.style[key] = styleAttributes[key];\n",
              "  }\n",
              "  return element;\n",
              "}\n",
              "\n",
              "// Max number of bytes which will be uploaded at a time.\n",
              "const MAX_PAYLOAD_SIZE = 100 * 1024;\n",
              "\n",
              "function _uploadFiles(inputId, outputId) {\n",
              "  const steps = uploadFilesStep(inputId, outputId);\n",
              "  const outputElement = document.getElementById(outputId);\n",
              "  // Cache steps on the outputElement to make it available for the next call\n",
              "  // to uploadFilesContinue from Python.\n",
              "  outputElement.steps = steps;\n",
              "\n",
              "  return _uploadFilesContinue(outputId);\n",
              "}\n",
              "\n",
              "// This is roughly an async generator (not supported in the browser yet),\n",
              "// where there are multiple asynchronous steps and the Python side is going\n",
              "// to poll for completion of each step.\n",
              "// This uses a Promise to block the python side on completion of each step,\n",
              "// then passes the result of the previous step as the input to the next step.\n",
              "function _uploadFilesContinue(outputId) {\n",
              "  const outputElement = document.getElementById(outputId);\n",
              "  const steps = outputElement.steps;\n",
              "\n",
              "  const next = steps.next(outputElement.lastPromiseValue);\n",
              "  return Promise.resolve(next.value.promise).then((value) => {\n",
              "    // Cache the last promise value to make it available to the next\n",
              "    // step of the generator.\n",
              "    outputElement.lastPromiseValue = value;\n",
              "    return next.value.response;\n",
              "  });\n",
              "}\n",
              "\n",
              "/**\n",
              " * Generator function which is called between each async step of the upload\n",
              " * process.\n",
              " * @param {string} inputId Element ID of the input file picker element.\n",
              " * @param {string} outputId Element ID of the output display.\n",
              " * @return {!Iterable<!Object>} Iterable of next steps.\n",
              " */\n",
              "function* uploadFilesStep(inputId, outputId) {\n",
              "  const inputElement = document.getElementById(inputId);\n",
              "  inputElement.disabled = false;\n",
              "\n",
              "  const outputElement = document.getElementById(outputId);\n",
              "  outputElement.innerHTML = '';\n",
              "\n",
              "  const pickedPromise = new Promise((resolve) => {\n",
              "    inputElement.addEventListener('change', (e) => {\n",
              "      resolve(e.target.files);\n",
              "    });\n",
              "  });\n",
              "\n",
              "  const cancel = document.createElement('button');\n",
              "  inputElement.parentElement.appendChild(cancel);\n",
              "  cancel.textContent = 'Cancel upload';\n",
              "  const cancelPromise = new Promise((resolve) => {\n",
              "    cancel.onclick = () => {\n",
              "      resolve(null);\n",
              "    };\n",
              "  });\n",
              "\n",
              "  // Wait for the user to pick the files.\n",
              "  const files = yield {\n",
              "    promise: Promise.race([pickedPromise, cancelPromise]),\n",
              "    response: {\n",
              "      action: 'starting',\n",
              "    }\n",
              "  };\n",
              "\n",
              "  cancel.remove();\n",
              "\n",
              "  // Disable the input element since further picks are not allowed.\n",
              "  inputElement.disabled = true;\n",
              "\n",
              "  if (!files) {\n",
              "    return {\n",
              "      response: {\n",
              "        action: 'complete',\n",
              "      }\n",
              "    };\n",
              "  }\n",
              "\n",
              "  for (const file of files) {\n",
              "    const li = document.createElement('li');\n",
              "    li.append(span(file.name, {fontWeight: 'bold'}));\n",
              "    li.append(span(\n",
              "        `(${file.type || 'n/a'}) - ${file.size} bytes, ` +\n",
              "        `last modified: ${\n",
              "            file.lastModifiedDate ? file.lastModifiedDate.toLocaleDateString() :\n",
              "                                    'n/a'} - `));\n",
              "    const percent = span('0% done');\n",
              "    li.appendChild(percent);\n",
              "\n",
              "    outputElement.appendChild(li);\n",
              "\n",
              "    const fileDataPromise = new Promise((resolve) => {\n",
              "      const reader = new FileReader();\n",
              "      reader.onload = (e) => {\n",
              "        resolve(e.target.result);\n",
              "      };\n",
              "      reader.readAsArrayBuffer(file);\n",
              "    });\n",
              "    // Wait for the data to be ready.\n",
              "    let fileData = yield {\n",
              "      promise: fileDataPromise,\n",
              "      response: {\n",
              "        action: 'continue',\n",
              "      }\n",
              "    };\n",
              "\n",
              "    // Use a chunked sending to avoid message size limits. See b/62115660.\n",
              "    let position = 0;\n",
              "    do {\n",
              "      const length = Math.min(fileData.byteLength - position, MAX_PAYLOAD_SIZE);\n",
              "      const chunk = new Uint8Array(fileData, position, length);\n",
              "      position += length;\n",
              "\n",
              "      const base64 = btoa(String.fromCharCode.apply(null, chunk));\n",
              "      yield {\n",
              "        response: {\n",
              "          action: 'append',\n",
              "          file: file.name,\n",
              "          data: base64,\n",
              "        },\n",
              "      };\n",
              "\n",
              "      let percentDone = fileData.byteLength === 0 ?\n",
              "          100 :\n",
              "          Math.round((position / fileData.byteLength) * 100);\n",
              "      percent.textContent = `${percentDone}% done`;\n",
              "\n",
              "    } while (position < fileData.byteLength);\n",
              "  }\n",
              "\n",
              "  // All done.\n",
              "  yield {\n",
              "    response: {\n",
              "      action: 'complete',\n",
              "    }\n",
              "  };\n",
              "}\n",
              "\n",
              "scope.google = scope.google || {};\n",
              "scope.google.colab = scope.google.colab || {};\n",
              "scope.google.colab._files = {\n",
              "  _uploadFiles,\n",
              "  _uploadFilesContinue,\n",
              "};\n",
              "})(self);\n",
              "</script> "
            ]
          },
          "metadata": {}
        },
        {
          "output_type": "stream",
          "name": "stderr",
          "text": [
            "WARNING:absl:Compiled the loaded model, but the compiled metrics have yet to be built. `model.compile_metrics` will be empty until you train or evaluate the model.\n"
          ]
        },
        {
          "output_type": "stream",
          "name": "stdout",
          "text": [
            "Saving model.h5 to model (1).h5\n",
            "✅ 已上傳模型: model (1).h5\n",
            "✅ 模型加載成功！\n"
          ]
        },
        {
          "output_type": "display_data",
          "data": {
            "text/plain": [
              "Output()"
            ],
            "application/vnd.jupyter.widget-view+json": {
              "version_major": 2,
              "version_minor": 0,
              "model_id": "c6363bececf24756870df058ab1d9da8"
            }
          },
          "metadata": {}
        },
        {
          "output_type": "display_data",
          "data": {
            "text/plain": [
              "<IPython.core.display.HTML object>"
            ],
            "text/html": [
              "\n",
              "<div style=\"font-family: Arial;\">\n",
              "  <h4>請用鼠標繪製數字：</h4>\n",
              "  <canvas id=\"drawCanvas\" width=\"ˇ320\" height=\"320\"\n",
              "          style=\"border:2px solid #666; cursor:crosshair; background:white;\"></canvas>\n",
              "  <div style=\"margin-top:15px;\">\n",
              "    <button onclick=\"processDrawing()\"\n",
              "            style=\"padding:6px 15px; background:#4285f4; color:white; border:none; border-radius:4px;\">\n",
              "      預測\n",
              "    </button>\n",
              "    <button onclick=\"clearCanvas()\"\n",
              "            style=\"padding:6px 15px; margin-left:10px; background:#f1f1f1; border:1px solid #ddd; border-radius:4px;\">\n",
              "      清除重畫\n",
              "    </button>\n",
              "  </div>\n",
              "  <div id=\"matrixContainer\" style=\"margin-top:20px; display:none;\">\n",
              "    <h4>生成的矩陣：</h4>\n",
              "    <div id=\"matrixOutput\"\n",
              "         style=\"font-family:monospace; background:#f8f8f8; padding:10px; border-radius:4px;\"></div>\n",
              "    <div style=\"margin-top:15px;\">\n",
              "      <div style=\"font-weight:bold; margin-bottom:5px;\">視覺化預覽：</div>\n",
              "      <canvas id=\"matrixPreview\" width=\"160\" height=\"160\"\n",
              "              style=\"border:1px solid #ccc; background:white;\"></canvas>\n",
              "    </div>\n",
              "    <div id=\"predictOutput\" style=\"margin-top:20px; font-weight:bold; color:#d32f2f;\"></div>\n",
              "  </div>\n",
              "</div>\n",
              "\n",
              "<script>\n",
              "const canvas = document.getElementById('drawCanvas');\n",
              "const ctx = canvas.getContext('2d');\n",
              "ctx.strokeStyle = 'black';\n",
              "ctx.lineWidth = 40;\n",
              "ctx.lineCap = 'round';\n",
              "ctx.lineJoin = 'round';\n",
              "\n",
              "let isDrawing = false;\n",
              "let lastX = 0;\n",
              "let lastY = 0;\n",
              "\n",
              "canvas.addEventListener('mousedown', startDrawing);\n",
              "canvas.addEventListener('mousemove', draw);\n",
              "canvas.addEventListener('mouseup', stopDrawing);\n",
              "canvas.addEventListener('mouseout', stopDrawing);\n",
              "\n",
              "function startDrawing(e) {\n",
              "  isDrawing = true;\n",
              "  [lastX, lastY] = [e.offsetX, e.offsetY];\n",
              "  ctx.beginPath();\n",
              "  ctx.moveTo(lastX, lastY);\n",
              "}\n",
              "\n",
              "function draw(e) {\n",
              "  if (!isDrawing) return;\n",
              "  ctx.lineTo(e.offsetX, e.offsetY);\n",
              "  ctx.stroke();\n",
              "  [lastX, lastY] = [e.offsetX, e.offsetY];\n",
              "}\n",
              "\n",
              "function stopDrawing() {\n",
              "  isDrawing = false;\n",
              "}\n",
              "\n",
              "function clearCanvas() {\n",
              "  ctx.fillStyle = 'white';\n",
              "  ctx.fillRect(0, 0, canvas.width, canvas.height);\n",
              "  document.getElementById('matrixContainer').style.display = 'none';\n",
              "}\n",
              "\n",
              "function processDrawing() {\n",
              "  const tempCanvas = document.createElement('canvas');\n",
              "  tempCanvas.width = tempCanvas.height = 8;\n",
              "  const tempCtx = tempCanvas.getContext('2d');\n",
              "  tempCtx.drawImage(canvas, 0, 0, 8, 8);\n",
              "\n",
              "  const imgData = tempCtx.getImageData(0, 0, 8, 8);\n",
              "  const matrix = [];\n",
              "  let matrixHTML = '[<br>';\n",
              "\n",
              "  for (let y = 0; y < 8; y++) {\n",
              "    const row = [];\n",
              "    for (let x = 0; x < 8; x++) {\n",
              "      const idx = (y * 8 + x) * 4;\n",
              "      const avg = (imgData.data[idx] + imgData.data[idx+1] + imgData.data[idx+2]) / 3;\n",
              "      row.push(avg < 128 ? 1 : 0);\n",
              "    }\n",
              "    matrix.push(row);\n",
              "    matrixHTML += '  [' + row.join(',') + ']' + (y < 7 ? ',' : '') + '<br>';\n",
              "  }\n",
              "  matrixHTML += ']';\n",
              "\n",
              "  const container = document.getElementById('matrixContainer');\n",
              "  container.style.display = 'block';\n",
              "  document.getElementById('matrixOutput').innerHTML = matrixHTML;\n",
              "\n",
              "  const preview = document.getElementById('matrixPreview');\n",
              "  const previewCtx = preview.getContext('2d');\n",
              "  const scale = 20;\n",
              "  previewCtx.fillStyle = 'white';\n",
              "  previewCtx.fillRect(0, 0, preview.width, preview.height);\n",
              "  for (let y = 0; y < 8; y++) {\n",
              "    for (let x = 0; x < 8; x++) {\n",
              "      if (matrix[y][x] === 1) {\n",
              "        previewCtx.fillStyle = 'black';\n",
              "        previewCtx.fillRect(x * scale, y * scale, scale, scale);\n",
              "      }\n",
              "    }\n",
              "  }\n",
              "\n",
              "  // 把 matrix 傳回 Python\n",
              "  google.colab.kernel.invokeFunction('notebook.predict_digit', [matrix], {});\n",
              "}\n",
              "</script>\n"
            ]
          },
          "metadata": {}
        },
        {
          "output_type": "display_data",
          "data": {
            "text/plain": [
              "<IPython.core.display.HTML object>"
            ],
            "text/html": [
              "<script>document.getElementById('predictOutput').innerText = '預測機率: 0.9996 -> 判斷: 1';</script>"
            ]
          },
          "metadata": {}
        },
        {
          "output_type": "display_data",
          "data": {
            "text/plain": [
              "<IPython.core.display.HTML object>"
            ],
            "text/html": [
              "<script>document.getElementById('predictOutput').innerText = '預測機率: 0.0151 -> 判斷: 3';</script>"
            ]
          },
          "metadata": {}
        },
        {
          "output_type": "display_data",
          "data": {
            "text/plain": [
              "<IPython.core.display.HTML object>"
            ],
            "text/html": [
              "<script>document.getElementById('predictOutput').innerText = '預測機率: 0.0026 -> 判斷: 3';</script>"
            ]
          },
          "metadata": {}
        },
        {
          "output_type": "display_data",
          "data": {
            "text/plain": [
              "<IPython.core.display.HTML object>"
            ],
            "text/html": [
              "<script>document.getElementById('predictOutput').innerText = '預測機率: 0.0021 -> 判斷: 3';</script>"
            ]
          },
          "metadata": {}
        },
        {
          "output_type": "display_data",
          "data": {
            "text/plain": [
              "<IPython.core.display.HTML object>"
            ],
            "text/html": [
              "<script>document.getElementById('predictOutput').innerText = '預測機率: 0.9858 -> 判斷: 1';</script>"
            ]
          },
          "metadata": {}
        },
        {
          "output_type": "display_data",
          "data": {
            "text/plain": [
              "<IPython.core.display.HTML object>"
            ],
            "text/html": [
              "<script>document.getElementById('predictOutput').innerText = '預測機率: 0.9993 -> 判斷: 1';</script>"
            ]
          },
          "metadata": {}
        },
        {
          "output_type": "display_data",
          "data": {
            "text/plain": [
              "<IPython.core.display.HTML object>"
            ],
            "text/html": [
              "<script>document.getElementById('predictOutput').innerText = '預測機率: 0.9865 -> 判斷: 1';</script>"
            ]
          },
          "metadata": {}
        },
        {
          "output_type": "display_data",
          "data": {
            "text/plain": [
              "<IPython.core.display.HTML object>"
            ],
            "text/html": [
              "<script>document.getElementById('predictOutput').innerText = '預測機率: 0.9900 -> 判斷: 1';</script>"
            ]
          },
          "metadata": {}
        },
        {
          "output_type": "display_data",
          "data": {
            "text/plain": [
              "<IPython.core.display.HTML object>"
            ],
            "text/html": [
              "<script>document.getElementById('predictOutput').innerText = '預測機率: 0.0000 -> 判斷: 3';</script>"
            ]
          },
          "metadata": {}
        },
        {
          "output_type": "display_data",
          "data": {
            "text/plain": [
              "<IPython.core.display.HTML object>"
            ],
            "text/html": [
              "<script>document.getElementById('predictOutput').innerText = '預測機率: 0.0158 -> 判斷: 3';</script>"
            ]
          },
          "metadata": {}
        },
        {
          "output_type": "display_data",
          "data": {
            "text/plain": [
              "<IPython.core.display.HTML object>"
            ],
            "text/html": [
              "<script>document.getElementById('predictOutput').innerText = '預測機率: 0.0002 -> 判斷: 3';</script>"
            ]
          },
          "metadata": {}
        },
        {
          "output_type": "display_data",
          "data": {
            "text/plain": [
              "<IPython.core.display.HTML object>"
            ],
            "text/html": [
              "<script>document.getElementById('predictOutput').innerText = '預測機率: 0.0002 -> 判斷: 3';</script>"
            ]
          },
          "metadata": {}
        },
        {
          "output_type": "display_data",
          "data": {
            "text/plain": [
              "<IPython.core.display.HTML object>"
            ],
            "text/html": [
              "<script>document.getElementById('predictOutput').innerText = '預測機率: 0.9996 -> 判斷: 1';</script>"
            ]
          },
          "metadata": {}
        },
        {
          "output_type": "display_data",
          "data": {
            "text/plain": [
              "<IPython.core.display.HTML object>"
            ],
            "text/html": [
              "<script>document.getElementById('predictOutput').innerText = '預測機率: 0.0002 -> 判斷: 3';</script>"
            ]
          },
          "metadata": {}
        },
        {
          "output_type": "display_data",
          "data": {
            "text/plain": [
              "<IPython.core.display.HTML object>"
            ],
            "text/html": [
              "<script>document.getElementById('predictOutput').innerText = '預測機率: 0.0007 -> 判斷: 3';</script>"
            ]
          },
          "metadata": {}
        },
        {
          "output_type": "display_data",
          "data": {
            "text/plain": [
              "<IPython.core.display.HTML object>"
            ],
            "text/html": [
              "<script>document.getElementById('predictOutput').innerText = '預測機率: 0.0006 -> 判斷: 3';</script>"
            ]
          },
          "metadata": {}
        },
        {
          "output_type": "display_data",
          "data": {
            "text/plain": [
              "<IPython.core.display.HTML object>"
            ],
            "text/html": [
              "<script>document.getElementById('predictOutput').innerText = '預測機率: 0.1034 -> 判斷: 3';</script>"
            ]
          },
          "metadata": {}
        },
        {
          "output_type": "display_data",
          "data": {
            "text/plain": [
              "<IPython.core.display.HTML object>"
            ],
            "text/html": [
              "<script>document.getElementById('predictOutput').innerText = '預測機率: 0.0010 -> 判斷: 3';</script>"
            ]
          },
          "metadata": {}
        },
        {
          "output_type": "display_data",
          "data": {
            "text/plain": [
              "<IPython.core.display.HTML object>"
            ],
            "text/html": [
              "<script>document.getElementById('predictOutput').innerText = '預測機率: 0.9948 -> 判斷: 1';</script>"
            ]
          },
          "metadata": {}
        },
        {
          "output_type": "display_data",
          "data": {
            "text/plain": [
              "<IPython.core.display.HTML object>"
            ],
            "text/html": [
              "<script>document.getElementById('predictOutput').innerText = '預測機率: 0.0028 -> 判斷: 3';</script>"
            ]
          },
          "metadata": {}
        },
        {
          "output_type": "display_data",
          "data": {
            "text/plain": [
              "<IPython.core.display.HTML object>"
            ],
            "text/html": [
              "<script>document.getElementById('predictOutput').innerText = '預測機率: 0.0001 -> 判斷: 3';</script>"
            ]
          },
          "metadata": {}
        },
        {
          "output_type": "display_data",
          "data": {
            "text/plain": [
              "<IPython.core.display.HTML object>"
            ],
            "text/html": [
              "<script>document.getElementById('predictOutput').innerText = '預測機率: 0.9990 -> 判斷: 1';</script>"
            ]
          },
          "metadata": {}
        },
        {
          "output_type": "display_data",
          "data": {
            "text/plain": [
              "<IPython.core.display.HTML object>"
            ],
            "text/html": [
              "<script>document.getElementById('predictOutput').innerText = '預測機率: 0.9510 -> 判斷: 1';</script>"
            ]
          },
          "metadata": {}
        },
        {
          "output_type": "display_data",
          "data": {
            "text/plain": [
              "<IPython.core.display.HTML object>"
            ],
            "text/html": [
              "<script>document.getElementById('predictOutput').innerText = '預測機率: 0.9805 -> 判斷: 1';</script>"
            ]
          },
          "metadata": {}
        }
      ]
    }
  ]
}