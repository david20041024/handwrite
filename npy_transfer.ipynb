{
  "nbformat": 4,
  "nbformat_minor": 0,
  "metadata": {
    "colab": {
      "provenance": []
    },
    "kernelspec": {
      "name": "python3",
      "display_name": "Python 3"
    },
    "language_info": {
      "name": "python"
    }
  },
  "cells": [
    {
      "cell_type": "code",
      "execution_count": 1,
      "metadata": {
        "colab": {
          "base_uri": "https://localhost:8080/",
          "height": 53
        },
        "id": "d7a_gmueNhcb",
        "outputId": "adf93d61-7b1a-4a73-a85f-76f0ba0a2e25"
      },
      "outputs": [
        {
          "output_type": "stream",
          "name": "stdout",
          "text": [
            "✅ 數據保存完成！\n"
          ]
        },
        {
          "output_type": "display_data",
          "data": {
            "text/plain": [
              "<IPython.core.display.Javascript object>"
            ],
            "application/javascript": [
              "\n",
              "    async function download(id, filename, size) {\n",
              "      if (!google.colab.kernel.accessAllowed) {\n",
              "        return;\n",
              "      }\n",
              "      const div = document.createElement('div');\n",
              "      const label = document.createElement('label');\n",
              "      label.textContent = `Downloading \"${filename}\": `;\n",
              "      div.appendChild(label);\n",
              "      const progress = document.createElement('progress');\n",
              "      progress.max = size;\n",
              "      div.appendChild(progress);\n",
              "      document.body.appendChild(div);\n",
              "\n",
              "      const buffers = [];\n",
              "      let downloaded = 0;\n",
              "\n",
              "      const channel = await google.colab.kernel.comms.open(id);\n",
              "      // Send a message to notify the kernel that we're ready.\n",
              "      channel.send({})\n",
              "\n",
              "      for await (const message of channel.messages) {\n",
              "        // Send a message to notify the kernel that we're ready.\n",
              "        channel.send({})\n",
              "        if (message.buffers) {\n",
              "          for (const buffer of message.buffers) {\n",
              "            buffers.push(buffer);\n",
              "            downloaded += buffer.byteLength;\n",
              "            progress.value = downloaded;\n",
              "          }\n",
              "        }\n",
              "      }\n",
              "      const blob = new Blob(buffers, {type: 'application/binary'});\n",
              "      const a = document.createElement('a');\n",
              "      a.href = window.URL.createObjectURL(blob);\n",
              "      a.download = filename;\n",
              "      div.appendChild(a);\n",
              "      a.click();\n",
              "      div.remove();\n",
              "    }\n",
              "  "
            ]
          },
          "metadata": {}
        },
        {
          "output_type": "display_data",
          "data": {
            "text/plain": [
              "<IPython.core.display.Javascript object>"
            ],
            "application/javascript": [
              "download(\"download_79512041-db6e-4685-8669-628e81057d4b\", \"x.npy\", 896)"
            ]
          },
          "metadata": {}
        },
        {
          "output_type": "stream",
          "name": "stdout",
          "text": [
            "📥 文件已開始下載到你的電腦\n"
          ]
        }
      ],
      "source": [
        "import numpy as np\n",
        "from google.colab import files\n",
        "\n",
        "# 假設你的訓練數據是這樣的格式\n",
        "X_train = [\n",
        "    # 第一個樣本（數字1）\n",
        "    [\n",
        "        [0,0,0,0,0,0,0,0],\n",
        "        [0,0,0,1,0,0,0,0],\n",
        "        [0,0,0,1,0,0,0,0],\n",
        "        [0,0,0,1,0,0,0,0],\n",
        "        [0,0,0,1,0,0,0,0],\n",
        "        [0,0,0,0,0,0,0,0],\n",
        "        [0,0,0,0,0,0,0,0],\n",
        "        [0,0,0,0,0,0,0,0]\n",
        "    ],\n",
        "    # 第二個樣本（數字1）\n",
        "    [\n",
        "        [0,0,0,0,0,0,0,0],\n",
        "        [0,0,0,1,1,0,0,0],\n",
        "        [0,0,0,0,1,0,0,0],\n",
        "        [0,0,0,0,1,0,0,0],\n",
        "        [0,0,0,0,1,0,0,0],\n",
        "        [0,0,0,0,1,0,0,0],\n",
        "        [0,0,1,1,1,1,1,0],\n",
        "        [0,0,0,0,0,0,0,0]\n",
        "    ],\n",
        "    # 第三個樣本（不是1，可能是3）\n",
        "    [\n",
        "        [0,0,0,0,0,0,0,0],\n",
        "        [0,1,1,1,1,1,0,0],\n",
        "        [0,1,0,0,0,1,0,0],\n",
        "        [0,0,0,0,1,0,0,0],\n",
        "        [0,0,0,1,0,0,0,0],\n",
        "        [0,0,1,0,0,0,0,0],\n",
        "        [0,1,1,1,1,1,0,0],\n",
        "        [0,0,0,0,0,0,0,0]\n",
        "    ],\n",
        "    # 更多樣本...\n",
        "]\n",
        "\n",
        "X_train_np = np.array(X_train, dtype=\"float32\")\n",
        "\n",
        "# 保存為.npy文件\n",
        "np.save('x.npy', X_train_np)\n",
        "\n",
        "print(f\"✅ 數據保存完成！\")\n",
        "\n",
        "# 下載到本地電腦\n",
        "files.download('x.npy')\n",
        "\n",
        "print(\"📥 文件已開始下載到你的電腦\")"
      ]
    }
  ]
}